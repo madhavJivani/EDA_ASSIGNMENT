{
 "cells": [
  {
   "cell_type": "markdown",
   "metadata": {},
   "source": [
    "# ASSIGNMENT 2 - MCAR test\n",
    "\n",
    "# Group No: 5\n",
    "\n",
    "**1. Madhav Jivani(202201285)**\n",
    "\n",
    "**2. Ritwik Agarwal(202411067)**\n",
    "\n",
    "**3. Tarun Kumar(202312126)**\n",
    "\n",
    "\n",
    "**github_link** = https://github.com/madhavJivani/EDA_ASSIGNMENT/tree/main/EDA_ASSIGNMENTS/Assignment-2\n",
    "\n",
    "> [Contribution for this assignment : solely done by Madhav Jivani - 202201285]\n",
    "> - May it be documentation part(regarding pdf)\n",
    "> - May it be actual analysis via code\n",
    ">"
   ]
  },
  {
   "cell_type": "code",
   "execution_count": 16,
   "metadata": {},
   "outputs": [
    {
     "data": {
      "text/html": [
       "<div>\n",
       "<style scoped>\n",
       "    .dataframe tbody tr th:only-of-type {\n",
       "        vertical-align: middle;\n",
       "    }\n",
       "\n",
       "    .dataframe tbody tr th {\n",
       "        vertical-align: top;\n",
       "    }\n",
       "\n",
       "    .dataframe thead th {\n",
       "        text-align: right;\n",
       "    }\n",
       "</style>\n",
       "<table border=\"1\" class=\"dataframe\">\n",
       "  <thead>\n",
       "    <tr style=\"text-align: right;\">\n",
       "      <th></th>\n",
       "      <th>Pregnant</th>\n",
       "      <th>Glucose</th>\n",
       "      <th>Diastolic_BP</th>\n",
       "      <th>Skin_Fold</th>\n",
       "      <th>Serum_Insulin</th>\n",
       "      <th>BMI</th>\n",
       "      <th>Diabetes_Pedigree</th>\n",
       "      <th>Age</th>\n",
       "      <th>Class</th>\n",
       "    </tr>\n",
       "  </thead>\n",
       "  <tbody>\n",
       "    <tr>\n",
       "      <th>0</th>\n",
       "      <td>6</td>\n",
       "      <td>148.0</td>\n",
       "      <td>72.0</td>\n",
       "      <td>35.0</td>\n",
       "      <td>NaN</td>\n",
       "      <td>33.6</td>\n",
       "      <td>0.627</td>\n",
       "      <td>50</td>\n",
       "      <td>1</td>\n",
       "    </tr>\n",
       "    <tr>\n",
       "      <th>1</th>\n",
       "      <td>1</td>\n",
       "      <td>85.0</td>\n",
       "      <td>66.0</td>\n",
       "      <td>29.0</td>\n",
       "      <td>NaN</td>\n",
       "      <td>26.6</td>\n",
       "      <td>0.351</td>\n",
       "      <td>31</td>\n",
       "      <td>0</td>\n",
       "    </tr>\n",
       "    <tr>\n",
       "      <th>2</th>\n",
       "      <td>8</td>\n",
       "      <td>183.0</td>\n",
       "      <td>64.0</td>\n",
       "      <td>NaN</td>\n",
       "      <td>NaN</td>\n",
       "      <td>23.3</td>\n",
       "      <td>0.672</td>\n",
       "      <td>32</td>\n",
       "      <td>1</td>\n",
       "    </tr>\n",
       "    <tr>\n",
       "      <th>3</th>\n",
       "      <td>1</td>\n",
       "      <td>89.0</td>\n",
       "      <td>66.0</td>\n",
       "      <td>23.0</td>\n",
       "      <td>94.0</td>\n",
       "      <td>28.1</td>\n",
       "      <td>0.167</td>\n",
       "      <td>21</td>\n",
       "      <td>0</td>\n",
       "    </tr>\n",
       "    <tr>\n",
       "      <th>4</th>\n",
       "      <td>0</td>\n",
       "      <td>137.0</td>\n",
       "      <td>40.0</td>\n",
       "      <td>35.0</td>\n",
       "      <td>168.0</td>\n",
       "      <td>43.1</td>\n",
       "      <td>2.288</td>\n",
       "      <td>33</td>\n",
       "      <td>1</td>\n",
       "    </tr>\n",
       "  </tbody>\n",
       "</table>\n",
       "</div>"
      ],
      "text/plain": [
       "   Pregnant  Glucose  Diastolic_BP  Skin_Fold  Serum_Insulin   BMI  \\\n",
       "0         6    148.0          72.0       35.0            NaN  33.6   \n",
       "1         1     85.0          66.0       29.0            NaN  26.6   \n",
       "2         8    183.0          64.0        NaN            NaN  23.3   \n",
       "3         1     89.0          66.0       23.0           94.0  28.1   \n",
       "4         0    137.0          40.0       35.0          168.0  43.1   \n",
       "\n",
       "   Diabetes_Pedigree  Age  Class  \n",
       "0              0.627   50      1  \n",
       "1              0.351   31      0  \n",
       "2              0.672   32      1  \n",
       "3              0.167   21      0  \n",
       "4              2.288   33      1  "
      ]
     },
     "execution_count": 16,
     "metadata": {},
     "output_type": "execute_result"
    }
   ],
   "source": [
    "# Load the Dataset form csv files in local folder\n",
    "import pandas as pd\n",
    "import missingno as msno\n",
    "df = pd.read_csv('Diabetes Missing Data.csv')\n",
    "df.head()"
   ]
  },
  {
   "cell_type": "code",
   "execution_count": 17,
   "metadata": {},
   "outputs": [
    {
     "data": {
      "text/plain": [
       "(768, 9)"
      ]
     },
     "execution_count": 17,
     "metadata": {},
     "output_type": "execute_result"
    }
   ],
   "source": [
    "df.shape"
   ]
  },
  {
   "cell_type": "code",
   "execution_count": 18,
   "metadata": {},
   "outputs": [
    {
     "name": "stdout",
     "output_type": "stream",
     "text": [
      "<class 'pandas.core.frame.DataFrame'>\n",
      "RangeIndex: 768 entries, 0 to 767\n",
      "Data columns (total 9 columns):\n",
      " #   Column             Non-Null Count  Dtype  \n",
      "---  ------             --------------  -----  \n",
      " 0   Pregnant           768 non-null    int64  \n",
      " 1   Glucose            763 non-null    float64\n",
      " 2   Diastolic_BP       733 non-null    float64\n",
      " 3   Skin_Fold          541 non-null    float64\n",
      " 4   Serum_Insulin      394 non-null    float64\n",
      " 5   BMI                757 non-null    float64\n",
      " 6   Diabetes_Pedigree  768 non-null    float64\n",
      " 7   Age                768 non-null    int64  \n",
      " 8   Class              768 non-null    int64  \n",
      "dtypes: float64(6), int64(3)\n",
      "memory usage: 54.1 KB\n"
     ]
    }
   ],
   "source": [
    "df.info()"
   ]
  },
  {
   "cell_type": "code",
   "execution_count": 4,
   "metadata": {},
   "outputs": [
    {
     "name": "stdout",
     "output_type": "stream",
     "text": [
      "Pregnant               int64\n",
      "Glucose              float64\n",
      "Diastolic_BP         float64\n",
      "Skin_Fold            float64\n",
      "Serum_Insulin        float64\n",
      "BMI                  float64\n",
      "Diabetes_Pedigree    float64\n",
      "Age                    int64\n",
      "Class                  int64\n",
      "dtype: object\n"
     ]
    }
   ],
   "source": [
    "# Check the data types of each column\n",
    "print(df.dtypes)"
   ]
  },
  {
   "cell_type": "markdown",
   "metadata": {},
   "source": [
    "# Find Missing Values"
   ]
  },
  {
   "cell_type": "code",
   "execution_count": 19,
   "metadata": {},
   "outputs": [
    {
     "data": {
      "text/plain": [
       "Pregnant               0\n",
       "Glucose                5\n",
       "Diastolic_BP          35\n",
       "Skin_Fold            227\n",
       "Serum_Insulin        374\n",
       "BMI                   11\n",
       "Diabetes_Pedigree      0\n",
       "Age                    0\n",
       "Class                  0\n",
       "dtype: int64"
      ]
     },
     "execution_count": 19,
     "metadata": {},
     "output_type": "execute_result"
    }
   ],
   "source": [
    "missing_details = df.isnull().sum()\n",
    "missing_details"
   ]
  },
  {
   "cell_type": "markdown",
   "metadata": {},
   "source": [
    "# Using missingno for Visulizing the missing data"
   ]
  },
  {
   "cell_type": "code",
   "execution_count": 20,
   "metadata": {},
   "outputs": [
    {
     "data": {
      "text/plain": [
       "<Axes: >"
      ]
     },
     "execution_count": 20,
     "metadata": {},
     "output_type": "execute_result"
    },
    {
     "data": {
      "image/png": "[encoded data removed]",
      "text/plain": [
       "<Figure size 2000x1200 with 2 Axes>"
      ]
     },
     "metadata": {},
     "output_type": "display_data"
    }
   ],
   "source": [
    "msno.heatmap(df)"
   ]
  },
  {
   "cell_type": "code",
   "execution_count": 21,
   "metadata": {},
   "outputs": [
    {
     "data": {
      "text/html": [
       "<div>\n",
       "<style scoped>\n",
       "    .dataframe tbody tr th:only-of-type {\n",
       "        vertical-align: middle;\n",
       "    }\n",
       "\n",
       "    .dataframe tbody tr th {\n",
       "        vertical-align: top;\n",
       "    }\n",
       "\n",
       "    .dataframe thead th {\n",
       "        text-align: right;\n",
       "    }\n",
       "</style>\n",
       "<table border=\"1\" class=\"dataframe\">\n",
       "  <thead>\n",
       "    <tr style=\"text-align: right;\">\n",
       "      <th></th>\n",
       "      <th>Pregnant</th>\n",
       "      <th>Glucose</th>\n",
       "      <th>Diastolic_BP</th>\n",
       "      <th>Skin_Fold</th>\n",
       "      <th>Serum_Insulin</th>\n",
       "      <th>BMI</th>\n",
       "      <th>Diabetes_Pedigree</th>\n",
       "      <th>Age</th>\n",
       "      <th>Class</th>\n",
       "    </tr>\n",
       "  </thead>\n",
       "  <tbody>\n",
       "    <tr>\n",
       "      <th>0</th>\n",
       "      <td>6</td>\n",
       "      <td>148.0</td>\n",
       "      <td>72.0</td>\n",
       "      <td>35.0</td>\n",
       "      <td>NaN</td>\n",
       "      <td>33.6</td>\n",
       "      <td>0.627</td>\n",
       "      <td>50</td>\n",
       "      <td>1</td>\n",
       "    </tr>\n",
       "    <tr>\n",
       "      <th>1</th>\n",
       "      <td>1</td>\n",
       "      <td>85.0</td>\n",
       "      <td>66.0</td>\n",
       "      <td>29.0</td>\n",
       "      <td>NaN</td>\n",
       "      <td>26.6</td>\n",
       "      <td>0.351</td>\n",
       "      <td>31</td>\n",
       "      <td>0</td>\n",
       "    </tr>\n",
       "    <tr>\n",
       "      <th>2</th>\n",
       "      <td>8</td>\n",
       "      <td>183.0</td>\n",
       "      <td>64.0</td>\n",
       "      <td>NaN</td>\n",
       "      <td>NaN</td>\n",
       "      <td>23.3</td>\n",
       "      <td>0.672</td>\n",
       "      <td>32</td>\n",
       "      <td>1</td>\n",
       "    </tr>\n",
       "    <tr>\n",
       "      <th>3</th>\n",
       "      <td>1</td>\n",
       "      <td>89.0</td>\n",
       "      <td>66.0</td>\n",
       "      <td>23.0</td>\n",
       "      <td>94.0</td>\n",
       "      <td>28.1</td>\n",
       "      <td>0.167</td>\n",
       "      <td>21</td>\n",
       "      <td>0</td>\n",
       "    </tr>\n",
       "    <tr>\n",
       "      <th>4</th>\n",
       "      <td>0</td>\n",
       "      <td>137.0</td>\n",
       "      <td>40.0</td>\n",
       "      <td>35.0</td>\n",
       "      <td>168.0</td>\n",
       "      <td>43.1</td>\n",
       "      <td>2.288</td>\n",
       "      <td>33</td>\n",
       "      <td>1</td>\n",
       "    </tr>\n",
       "  </tbody>\n",
       "</table>\n",
       "</div>"
      ],
      "text/plain": [
       "   Pregnant  Glucose  Diastolic_BP  Skin_Fold  Serum_Insulin   BMI  \\\n",
       "0         6    148.0          72.0       35.0            NaN  33.6   \n",
       "1         1     85.0          66.0       29.0            NaN  26.6   \n",
       "2         8    183.0          64.0        NaN            NaN  23.3   \n",
       "3         1     89.0          66.0       23.0           94.0  28.1   \n",
       "4         0    137.0          40.0       35.0          168.0  43.1   \n",
       "\n",
       "   Diabetes_Pedigree  Age  Class  \n",
       "0              0.627   50      1  \n",
       "1              0.351   31      0  \n",
       "2              0.672   32      1  \n",
       "3              0.167   21      0  \n",
       "4              2.288   33      1  "
      ]
     },
     "execution_count": 21,
     "metadata": {},
     "output_type": "execute_result"
    }
   ],
   "source": [
    "from sklearn.preprocessing import LabelEncoder\n",
    "label_encoders = {\n",
    "    column: LabelEncoder().fit(df[column])\n",
    "    for column in df.select_dtypes(include=['object']).columns\n",
    "}\n",
    "\n",
    "for column, encoder in label_encoders.items():\n",
    "    df[column] = encoder.transform(df[column])\n",
    "\n",
    "df.head()"
   ]
  },
  {
   "cell_type": "code",
   "execution_count": null,
   "metadata": {},
   "outputs": [],
   "source": [
    "%pip install missingpy\n",
    "%pip install statsmodels"
   ]
  },
  {
   "cell_type": "code",
   "execution_count": 22,
   "metadata": {},
   "outputs": [
    {
     "name": "stdout",
     "output_type": "stream",
     "text": [
      "Chi-Square Statistic: 652.8500651890481\n",
      "P-Value for MCAR test: 0.0\n"
     ]
    }
   ],
   "source": [
    "import numpy as np\n",
    "from statsmodels.stats import weightstats as stests\n",
    "from scipy.stats import chi2\n",
    "\n",
    "def little_mcar_test(df):\n",
    "    n = df.shape[0]\n",
    "    n_miss = df.isnull().sum().sum()\n",
    "\n",
    "    proportions_missing = df.isnull().mean()\n",
    "\n",
    "    chi_square = (n_miss ** 2) / ((n - 1) * proportions_missing.sum())\n",
    "\n",
    "    df_m = df.shape[1] - 1\n",
    "\n",
    "    p_value = 1 - chi2.cdf(chi_square, df_m)\n",
    "\n",
    "    return chi_square, p_value\n",
    "\n",
    "chi_square, p_value = little_mcar_test(df)\n",
    "print(f\"Chi-Square Statistic: {chi_square}\")\n",
    "print(f\"P-Value for MCAR test: {p_value}\")"
   ]
  },
  {
   "cell_type": "markdown",
   "metadata": {},
   "source": [
    "* P-value is 0 means, our missing data is **not MCAR**\n",
    "\n",
    "\n"
   ]
  },
  {
   "cell_type": "markdown",
   "metadata": {},
   "source": [
    "# KNN Imputer to fill missing values"
   ]
  },
  {
   "cell_type": "code",
   "execution_count": 23,
   "metadata": {},
   "outputs": [
    {
     "name": "stdout",
     "output_type": "stream",
     "text": [
      "   Pregnant  Glucose  Diastolic_BP  Skin_Fold  Serum_Insulin   BMI  \\\n",
      "0       6.0    148.0          72.0       35.0          169.0  33.6   \n",
      "1       1.0     85.0          66.0       29.0           58.6  26.6   \n",
      "2       8.0    183.0          64.0       25.8          164.6  23.3   \n",
      "3       1.0     89.0          66.0       23.0           94.0  28.1   \n",
      "4       0.0    137.0          40.0       35.0          168.0  43.1   \n",
      "\n",
      "   Diabetes_Pedigree   Age  Class  \n",
      "0              0.627  50.0    1.0  \n",
      "1              0.351  31.0    0.0  \n",
      "2              0.672  32.0    1.0  \n",
      "3              0.167  21.0    0.0  \n",
      "4              2.288  33.0    1.0  \n"
     ]
    }
   ],
   "source": [
    "from sklearn.impute import KNNImputer\n",
    "knn_imputer = KNNImputer()\n",
    "df_imputed_knn = pd.DataFrame(knn_imputer.fit_transform(df), columns=df.columns)\n",
    "print(df_imputed_knn.head())"
   ]
  },
  {
   "cell_type": "code",
   "execution_count": 24,
   "metadata": {},
   "outputs": [
    {
     "name": "stdout",
     "output_type": "stream",
     "text": [
      "Pregnant             0\n",
      "Glucose              0\n",
      "Diastolic_BP         0\n",
      "Skin_Fold            0\n",
      "Serum_Insulin        0\n",
      "BMI                  0\n",
      "Diabetes_Pedigree    0\n",
      "Age                  0\n",
      "Class                0\n",
      "dtype: int64\n"
     ]
    }
   ],
   "source": [
    "print(df_imputed_knn.isnull().sum())"
   ]
  },
  {
   "cell_type": "markdown",
   "metadata": {},
   "source": [
    "# MissForest Imputer to fill missing values"
   ]
  },
  {
   "cell_type": "code",
   "execution_count": 13,
   "metadata": {},
   "outputs": [
    {
     "name": "stdout",
     "output_type": "stream",
     "text": [
      "Imputed DataFrame:\n",
      "     Pregnant  Glucose  Diastolic_BP  Skin_Fold  Serum_Insulin   BMI  \\\n",
      "0           6    148.0          72.0      35.00         188.52  33.6   \n",
      "1           1     85.0          66.0      29.00          49.82  26.6   \n",
      "2           8    183.0          64.0      19.86         228.06  23.3   \n",
      "3           1     89.0          66.0      23.00          94.00  28.1   \n",
      "4           0    137.0          40.0      35.00         168.00  43.1   \n",
      "..        ...      ...           ...        ...            ...   ...   \n",
      "763        10    101.0          76.0      48.00         180.00  32.9   \n",
      "764         2    122.0          70.0      27.00         179.52  36.8   \n",
      "765         5    121.0          72.0      23.00         112.00  26.2   \n",
      "766         1    126.0          60.0      26.21         148.62  30.1   \n",
      "767         1     93.0          70.0      31.00          71.05  30.4   \n",
      "\n",
      "     Diabetes_Pedigree  Age  Class  \n",
      "0                0.627   50      1  \n",
      "1                0.351   31      0  \n",
      "2                0.672   32      1  \n",
      "3                0.167   21      0  \n",
      "4                2.288   33      1  \n",
      "..                 ...  ...    ...  \n",
      "763              0.171   63      0  \n",
      "764              0.340   27      0  \n",
      "765              0.245   30      0  \n",
      "766              0.349   47      1  \n",
      "767              0.315   23      0  \n",
      "\n",
      "[768 rows x 9 columns]\n"
     ]
    }
   ],
   "source": [
    "# missingpy library is not working so we have used alternative\n",
    "import pandas as pd\n",
    "import numpy as np\n",
    "from sklearn.ensemble import RandomForestRegressor, RandomForestClassifier\n",
    "from sklearn.metrics import mean_squared_error\n",
    "from sklearn.utils import resample\n",
    "\n",
    "def custom_missforest(df, n_iterations=10):\n",
    "    df_imputed = df.copy()\n",
    "\n",
    "    for _ in range(n_iterations):\n",
    "        for column in df_imputed.columns:\n",
    "            if df_imputed[column].isnull().any():\n",
    "                df_missing = df_imputed[df_imputed[column].isnull()]\n",
    "                df_non_missing = df_imputed[df_imputed[column].notnull()]\n",
    "\n",
    "                if df_non_missing.empty:\n",
    "                    continue\n",
    "\n",
    "                X_train = df_non_missing.drop(columns=column)\n",
    "                y_train = df_non_missing[column]\n",
    "                X_test = df_missing.drop(columns=column)\n",
    "\n",
    "                X_train = X_train.fillna(X_train.mean())\n",
    "                X_test = X_test.fillna(X_train.mean())\n",
    "\n",
    "                if y_train.dtype == 'object' or df_imputed[column].dtype == 'object':\n",
    "                    model = RandomForestClassifier(n_estimators=100)\n",
    "                    model.fit(X_train, y_train)\n",
    "                    df_imputed.loc[df_imputed[column].isnull(), column] = model.predict(X_test)\n",
    "                else:\n",
    "                    model = RandomForestRegressor(n_estimators=100)\n",
    "                    model.fit(X_train, y_train)\n",
    "                    df_imputed.loc[df_imputed[column].isnull(), column] = model.predict(X_test)\n",
    "\n",
    "    return df_imputed\n",
    "\n",
    "df_imputed_missforest = custom_missforest(df)\n",
    "\n",
    "print(\"Imputed DataFrame:\")\n",
    "print(df_imputed_missforest)"
   ]
  },
  {
   "cell_type": "code",
   "execution_count": 26,
   "metadata": {},
   "outputs": [
    {
     "data": {
      "text/plain": [
       "Pregnant             0\n",
       "Glucose              0\n",
       "Diastolic_BP         0\n",
       "Skin_Fold            0\n",
       "Serum_Insulin        0\n",
       "BMI                  0\n",
       "Diabetes_Pedigree    0\n",
       "Age                  0\n",
       "Class                0\n",
       "dtype: int64"
      ]
     },
     "execution_count": 26,
     "metadata": {},
     "output_type": "execute_result"
    }
   ],
   "source": [
    "df_imputed_missforest.isnull().sum()"
   ]
  },
  {
   "cell_type": "markdown",
   "metadata": {},
   "source": [
    "* Missing entries are imputed with estimated values predicted by random forest models. These predictions are made using other observed data from the dataset, allowing for more accurate estimates of missing values.\n",
    "\n",
    "* Due to the inherent randomness in random forest models—particularly when using a bootstrap sampling approach for training individual trees—re-running the code multiple times may result in slight variations in the imputed values.\n",
    "\n",
    "* Random forests handle missing data well due to their ability to leverage correlations between features, and the ensemble nature of the method helps provide robust estimates.\n",
    "\n",
    "* Additionally, random forests can maintain the variability in the dataset, which is often lost with simpler imputation methods like mean or median replacement, leading to better data quality for downstream analysis."
   ]
  }
 ],
 "metadata": {
  "kernelspec": {
   "display_name": "Python 3",
   "language": "python",
   "name": "python3"
  },
  "language_info": {
   "codemirror_mode": {
    "name": "ipython",
    "version": 3
   },
   "file_extension": ".py",
   "mimetype": "text/x-python",
   "name": "python",
   "nbconvert_exporter": "python",
   "pygments_lexer": "ipython3",
   "version": "3.12.4"
  }
 },
 "nbformat": 4,
 "nbformat_minor": 2
}
